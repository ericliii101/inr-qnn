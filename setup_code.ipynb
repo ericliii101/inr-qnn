{
 "cells": [
  {
   "cell_type": "code",
   "execution_count": null,
   "id": "166b270f-2e14-40ee-9fb3-e24ac49505db",
   "metadata": {},
   "outputs": [],
   "source": [
    "!pip install -r requirements.txt"
   ]
  },
  {
   "cell_type": "code",
   "execution_count": 11,
   "id": "1ba44dd6-7169-470f-878e-02562e314806",
   "metadata": {},
   "outputs": [],
   "source": [
    "import os\n",
    "import torch\n",
    "import torch.nn as nn\n",
    "import numpy as np\n",
    "import pandas as pd\n",
    "import matplotlib.pyplot as plt\n",
    "import IPython.display as ipd\n",
    "from tqdm.notebook import tqdm\n",
    "from torchsummary import summary\n",
    "import soundfile as sf\n",
    "from torch.utils.data import Dataset, DataLoader"
   ]
  },
  {
   "cell_type": "code",
   "execution_count": 13,
   "id": "35e75ac8-928d-466e-b7f8-c1f6153c18b5",
   "metadata": {},
   "outputs": [],
   "source": [
    "# Prepare data\n",
    "\n",
    "data_path1 = \"clarinet_mozart_1811.wav\"\n",
    "data_path2 = \"flute_bach_2202.wav\"\n",
    "data_path3 = \"piano_bach_2240.wav\"\n",
    "\n",
    "seconds = 5\n",
    "\n",
    "data, samplerate = sf.read(data_path1, dtype='float32')\n",
    "data = data[4*samplerate:(4+seconds)*samplerate]\n",
    "sf.write('clarinet_by_mozart.wav', data, samplerate)\n",
    "data, samplerate = sf.read(data_path2, dtype='float32')\n",
    "data = data[3*samplerate:(3+seconds)*samplerate]\n",
    "sf.write('flute_by_bach.wav', data, samplerate)\n",
    "data, samplerate = sf.read(data_path3, dtype='float32')\n",
    "data = data[3*samplerate:(3+seconds)*samplerate]\n",
    "sf.write('piano_by_bach.wav', data, samplerate)"
   ]
  },
  {
   "cell_type": "code",
   "execution_count": 14,
   "id": "1f3e5a11-9cb6-4530-812f-f3d7ee4bb3eb",
   "metadata": {},
   "outputs": [
    {
     "name": "stdout",
     "output_type": "stream",
     "text": [
      "Using device: cuda\n"
     ]
    }
   ],
   "source": [
    "device = torch.device('cuda' if torch.cuda.is_available() else 'cpu')\n",
    "print(f\"Using device: {device}\")"
   ]
  }
 ],
 "metadata": {
  "kernelspec": {
   "display_name": "Python 3 (ipykernel)",
   "language": "python",
   "name": "python3"
  },
  "language_info": {
   "codemirror_mode": {
    "name": "ipython",
    "version": 3
   },
   "file_extension": ".py",
   "mimetype": "text/x-python",
   "name": "python",
   "nbconvert_exporter": "python",
   "pygments_lexer": "ipython3",
   "version": "3.10.12"
  }
 },
 "nbformat": 4,
 "nbformat_minor": 5
}
