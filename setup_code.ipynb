{
 "cells": [
  {
   "cell_type": "code",
   "execution_count": null,
   "id": "166b270f-2e14-40ee-9fb3-e24ac49505db",
   "metadata": {},
   "outputs": [],
   "source": [
    "!pip install -r requirements.txt"
   ]
  },
  {
   "cell_type": "code",
   "execution_count": 1,
   "id": "1ba44dd6-7169-470f-878e-02562e314806",
   "metadata": {},
   "outputs": [],
   "source": [
    "import os\n",
    "import torch\n",
    "import torch.nn as nn\n",
    "import numpy as np\n",
    "import pandas as pd\n",
    "import matplotlib.pyplot as plt\n",
    "import IPython.display as ipd\n",
    "from tqdm.notebook import tqdm\n",
    "from torchsummary import summary\n",
    "import soundfile as sf\n",
    "import librosa\n",
    "from torch.utils.data import Dataset, DataLoader"
   ]
  },
  {
   "cell_type": "code",
   "execution_count": 38,
   "id": "bfd10696-7fd1-4891-b99b-22ffd7d19dba",
   "metadata": {},
   "outputs": [
    {
     "data": {
      "text/html": [
       "\n",
       "                <audio  controls=\"controls\" >\n",
       "                    <source src=\"data:audio/wav;base64,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\" type=\"audio/wav\" />\n",
       "                    Your browser does not support the audio element.\n",
       "                </audio>\n",
       "              "
      ],
      "text/plain": [
       "<IPython.lib.display.Audio object>"
      ]
     },
     "execution_count": 38,
     "metadata": {},
     "output_type": "execute_result"
    }
   ],
   "source": [
    "seconds = 5\n",
    "targetrate = 525\n",
    "data, samplerate = sf.read(\"data/raw/2240.wav\", dtype='float32')\n",
    "data = data[3*samplerate:(3+seconds)*samplerate]\n",
    "data = librosa.resample(data, orig_sr=samplerate, target_sr=targetrate)\n",
    "ipd.Audio(data, rate=targetrate)"
   ]
  },
  {
   "cell_type": "code",
   "execution_count": 39,
   "id": "35e75ac8-928d-466e-b7f8-c1f6153c18b5",
   "metadata": {},
   "outputs": [],
   "source": [
    "# Prepare data\n",
    "\n",
    "data_path1 = \"data/raw/1811.wav\"\n",
    "data_path2 = \"data/raw/2202.wav\"\n",
    "data_path3 = \"data/raw/2240.wav\"\n",
    "\n",
    "seconds = 5\n",
    "lowrate = 525\n",
    "\n",
    "data, samplerate = sf.read(data_path1, dtype='float32')\n",
    "data = data[4*samplerate:(4+seconds)*samplerate]\n",
    "sf.write('data/original/clarinet_by_mozart.wav', data, samplerate)\n",
    "data = librosa.resample(data, orig_sr=samplerate, target_sr=targetrate)\n",
    "sf.write('data/downsampled/clarinet_by_mozart.wav', data, targetrate)\n",
    "data, samplerate = sf.read(data_path2, dtype='float32')\n",
    "data = data[3*samplerate:(3+seconds)*samplerate]\n",
    "sf.write('data/original/flute_by_bach.wav', data, samplerate)\n",
    "data = librosa.resample(data, orig_sr=samplerate, target_sr=targetrate)\n",
    "sf.write('data/downsampled/flute_by_bach.wav', data, targetrate)\n",
    "data, samplerate = sf.read(data_path3, dtype='float32')\n",
    "data = data[3*samplerate:(3+seconds)*samplerate]\n",
    "sf.write('data/original/piano_by_bach.wav', data, samplerate)\n",
    "data = librosa.resample(data, orig_sr=samplerate, target_sr=targetrate)\n",
    "sf.write('data/downsampled/piano_by_bach.wav', data, targetrate)"
   ]
  },
  {
   "cell_type": "code",
   "execution_count": 14,
   "id": "1f3e5a11-9cb6-4530-812f-f3d7ee4bb3eb",
   "metadata": {},
   "outputs": [
    {
     "name": "stdout",
     "output_type": "stream",
     "text": [
      "Using device: cuda\n"
     ]
    }
   ],
   "source": [
    "device = torch.device('cuda' if torch.cuda.is_available() else 'cpu')\n",
    "print(f\"Using device: {device}\")"
   ]
  },
  {
   "cell_type": "code",
   "execution_count": null,
   "id": "6411529c-2fa4-4b73-ad8f-413d3584f211",
   "metadata": {},
   "outputs": [],
   "source": [
    "!pip install -r requirements_mini.txt"
   ]
  }
 ],
 "metadata": {
  "kernelspec": {
   "display_name": "Python 3 (ipykernel)",
   "language": "python",
   "name": "python3"
  },
  "language_info": {
   "codemirror_mode": {
    "name": "ipython",
    "version": 3
   },
   "file_extension": ".py",
   "mimetype": "text/x-python",
   "name": "python",
   "nbconvert_exporter": "python",
   "pygments_lexer": "ipython3",
   "version": "3.10.12"
  }
 },
 "nbformat": 4,
 "nbformat_minor": 5
}
